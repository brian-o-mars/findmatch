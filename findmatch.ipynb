{
  "nbformat": 4,
  "nbformat_minor": 0,
  "metadata": {
    "colab": {
      "name": "findmatch.ipynb",
      "provenance": []
    },
    "kernelspec": {
      "name": "python3",
      "display_name": "Python 3"
    }
  },
  "cells": [
    {
      "cell_type": "code",
      "metadata": {
        "id": "SiQGIJsldLrY",
        "colab_type": "code",
        "colab": {}
      },
      "source": [
        "!pip install fuzzywuzzy\n",
        "from fuzzywuzzy import process"
      ],
      "execution_count": 1,
      "outputs": []
    },
    {
      "cell_type": "code",
      "metadata": {
        "id": "Wx6Y2E9BdQKr",
        "colab_type": "code",
        "colab": {}
      },
      "source": [
        "def findmatch(str, list):\n",
        "  done = input('Have you installed fuzzywuzzy and imported process? Enter \"yes\" or \"no\"')\n",
        "  if done == 'yes':\n",
        "    ratios = process.extract(str, list)\n",
        "    return ratios\n",
        "  elif done == 'no':\n",
        "    print('Please install fuzzywuzzy and import process')\n",
        "  else:\n",
        "    print('Please enter \"yes\" or \"no\"')"
      ],
      "execution_count": null,
      "outputs": []
    },
    {
      "cell_type": "code",
      "metadata": {
        "id": "sOMYR-9PeCsg",
        "colab_type": "code",
        "colab": {}
      },
      "source": [
        "findmatch('google.com', ['thegoogle.com', 'good.go', 'google.co.in', 'bing.com'])"
      ],
      "execution_count": null,
      "outputs": []
    },
    {
      "cell_type": "code",
      "metadata": {
        "id": "lQKk29Jidqm7",
        "colab_type": "code",
        "colab": {}
      },
      "source": [
        ""
      ],
      "execution_count": null,
      "outputs": []
    }
  ]
}